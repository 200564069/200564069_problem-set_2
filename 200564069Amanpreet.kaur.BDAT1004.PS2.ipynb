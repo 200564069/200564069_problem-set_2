{
 "cells": [
  {
   "cell_type": "markdown",
   "id": "53db46e2-4d9e-468a-badf-d5db026e14ce",
   "metadata": {},
   "source": [
    "QUESTION 1.\n",
    "Consider the following Python module:\n",
    "a = 0\n",
    "def b():\n",
    " global a\n",
    " a = c(a)\n",
    "def c(a):\n",
    " return a + 2\n",
    "After importing the module into the interpreter, you execute:\n",
    ">>> b()\n",
    ">>> b()\n",
    ">>> b()\n",
    ">>> a\n",
    "?\n",
    "What value is displayed when the last expression (a) is evaluated? Explain your \n",
    "answer by indicating what happens in every executed statement"
   ]
  },
  {
   "cell_type": "code",
   "execution_count": 77,
   "id": "27af0d6d-d41b-4e47-ac3d-42a1e1d3480f",
   "metadata": {},
   "outputs": [],
   "source": [
    "a = 0\n",
    "def b():\n",
    "    global a\n",
    "    a = c(a)\n",
    "def c(a):\n",
    "    return a + 2"
   ]
  },
  {
   "cell_type": "code",
   "execution_count": 78,
   "id": "597c2abf-7836-45d8-b234-4b3720d9c238",
   "metadata": {},
   "outputs": [
    {
     "data": {
      "text/plain": [
       "6"
      ]
     },
     "execution_count": 78,
     "metadata": {},
     "output_type": "execute_result"
    }
   ],
   "source": [
    "b()  \n",
    "#Here, when first time b() is called, the value of a is updated to 2.\n",
    "# Explanation:1. Here, in first step, the value of 'a' is read as 0. \n",
    "#2.In second step, c(a) is called with a=0 and c(a) returns 2\n",
    "#3.In third step,the value of a gets updated to 2 which is the return value of c(0)\n",
    "\n",
    "b()\n",
    "#Here, when first time b() is called, the value of a is updated to 4.\n",
    "# Explanation:1 Here, in first step, the value of 'a' is read as 2. \n",
    "# 2.In second step, c(a) is called with a=2 and c(a) returns 4\n",
    "# 3.In third step,the value of a gets updated to 4 which is the return value of c(2)\n",
    "\n",
    "b()\n",
    "#Here, when first time b() is called, the value of a is updated to 6.\n",
    "# Explanation:1 Here, in first step, the value of 'a' is read as 4. \n",
    "# 2.In second step, c(a) is called with a=4 and c(a) returns 6\n",
    "# 3.In third step,the value of a gets updated to 6 which is the return value of c(4)\n",
    "\n",
    "a\n",
    "#Output ->6"
   ]
  },
  {
   "cell_type": "markdown",
   "id": "360fae3d-90bf-4abd-9fdd-2504dfde98f1",
   "metadata": {},
   "source": [
    "QUESTION 2\n",
    "Function fileLength(), given to you, takes the name of a file as input and returns \n",
    "the length of the file:\n",
    ">>> fileLength('midterm.py')\n",
    "284\n",
    ">>> fileLength('idterm.py')\n",
    "Traceback (most recent call last):\n",
    "File \"<pyshell#34>\", line 1, in <module>\n",
    " fileLength('idterm.py')\n",
    "File \"/Users/me/midterm.py\", line 3, in fileLength\n",
    " infile = open(filename)\n",
    "FileNotFoundError: [Errno 2] No such file or directory: \n",
    "'idterm.py'\n",
    "As shown above, if the file cannot be found by the interpreter or if it cannot be read \n",
    "as a text file, an exception will be raised. Modify function fileLength() so that a \n",
    "friendly message is printed instead:\n",
    ">>> fileLength('midterm.py')\n",
    "358\n",
    ">>> fileLength('idterm.py')\n",
    "File idterm.py not found.\n"
   ]
  },
  {
   "cell_type": "code",
   "execution_count": 74,
   "id": "16673822-bb59-4b35-9bcf-5b9667679e69",
   "metadata": {},
   "outputs": [],
   "source": [
    "def file_length(file_name):\n",
    "    file = None\n",
    "    \n",
    "    try:\n",
    "        file = open(file_name)\n",
    "    except FileNotFoundError as e:\n",
    "        print(f\"File {file_name} not found.\")\n",
    "    \n",
    "    if file is not None:\n",
    "        contents = file.read()\n",
    "        file.close()\n",
    "        print(len(contents))"
   ]
  },
  {
   "cell_type": "code",
   "execution_count": 25,
   "id": "9b9b48b7-8b96-45f9-95ef-ecc2a082394d",
   "metadata": {},
   "outputs": [
    {
     "name": "stdout",
     "output_type": "stream",
     "text": [
      "123\n"
     ]
    }
   ],
   "source": [
    "file_length('Filelength.txt')"
   ]
  },
  {
   "cell_type": "code",
   "execution_count": 26,
   "id": "f1470fee-7e28-4f51-a990-efff3850ca81",
   "metadata": {},
   "outputs": [
    {
     "name": "stdout",
     "output_type": "stream",
     "text": [
      "File ilelength.txt not found.\n"
     ]
    }
   ],
   "source": [
    "file_length('ilelength.txt')"
   ]
  },
  {
   "cell_type": "markdown",
   "id": "0164cfe9-5c12-401a-a7e5-8b7ea35244b9",
   "metadata": {},
   "source": [
    "QUESTION 3.\n",
    "Write a class named Marsupial that can be used as shown below:\n",
    ">>> m = Marsupial()\n",
    ">>> m.put_in_pouch('doll')\n",
    ">>> m.put_in_pouch('firetruck')\n",
    ">>> m.put_in_pouch('kitten')\n",
    ">>> m.pouch_contents()\n",
    "['doll', 'firetruck', 'kitten']"
   ]
  },
  {
   "cell_type": "code",
   "execution_count": 37,
   "id": "c95f5509-39c2-4a13-99f9-b240642d65ee",
   "metadata": {},
   "outputs": [
    {
     "name": "stdout",
     "output_type": "stream",
     "text": [
      "['doll', 'firetruck', 'kitten']\n"
     ]
    }
   ],
   "source": [
    "class Marsupial:\n",
    "    def __init__(self, contents=[]):\n",
    "        self.lst = []\n",
    "    def put_in_pouch(self, item):\n",
    "        self.lst.append(item)\n",
    "    def pouch_contents(self):\n",
    "        print(self.lst)\n",
    "m = Marsupial()\n",
    "m.put_in_pouch('doll')\n",
    "m.put_in_pouch('firetruck')\n",
    "m.put_in_pouch('kitten')\n",
    "m.pouch_contents()\n"
   ]
  },
  {
   "cell_type": "markdown",
   "id": "b3a7172f-f85c-4ad9-976a-c9cf06f72e1f",
   "metadata": {},
   "source": [
    "Now write a class named Kangaroo as a subclass of Marsupial that inherits all the \n",
    "attributes of Marsupial and also:"
   ]
  },
  {
   "cell_type": "markdown",
   "id": "0b690f95-115d-4191-a178-ca26a7dbde51",
   "metadata": {},
   "source": [
    "a. extends the Marsupial __init__ constructor to take, as input, the \n",
    "coordinates x and y of the Kangaroo object,"
   ]
  },
  {
   "cell_type": "markdown",
   "id": "9c380385-a660-494f-a736-439002de67d0",
   "metadata": {},
   "source": [
    "b. supports method jump that takes number values dx and dy as input and \n",
    "moves the kangaroo by dx units along the x-axis and by dy units along the y\u0002axis, and\n"
   ]
  },
  {
   "cell_type": "markdown",
   "id": "bfd7ba88-a58c-470e-aebe-6116a1dfb54e",
   "metadata": {},
   "source": [
    "c. overloads the __str__ operator so it behaves as shown below.\n",
    ">>> k = Kangaroo(0,0)\n",
    ">>> print(k)\n",
    "I am a Kangaroo located at coordinates (0,0)\n",
    ">>> k.put_in_pouch('doll')\n",
    ">>> k.put_in_pouch('firetruck')\n",
    ">>> k.put_in_pouch('kitten')\n",
    ">>> k.pouch_contents()\n",
    "['doll', 'firetruck', 'kitten']\n",
    ">>> k.jump(1,0)\n",
    ">>> k.jump(1,0)\n",
    ">>> k.jump(1,0)\n",
    ">>> print(k)\n",
    "I am a Kangaroo located at coordinates (3,0)"
   ]
  },
  {
   "cell_type": "code",
   "execution_count": 39,
   "id": "b1b1583f-3b9f-4068-b298-7bcc9be99bd0",
   "metadata": {},
   "outputs": [
    {
     "name": "stdout",
     "output_type": "stream",
     "text": [
      "I am a Kangaroo located at coordinates (0,0)\n",
      "['doll', 'firetruck', 'kitten']\n",
      "I am a Kangaroo located at coordinates (3,0)\n"
     ]
    }
   ],
   "source": [
    "class Marsupial:\n",
    "    def __init__(self):\n",
    "        self.pouch = []\n",
    " \n",
    "    def put_in_pouch(self, item):\n",
    "        self.pouch.append(item)\n",
    " \n",
    "    def pouch_contents(self):\n",
    "        return self.pouch\n",
    " \n",
    "class Kangaroo(Marsupial):\n",
    "    def __init__(self, x=0, y=0):\n",
    "        super().__init__()\n",
    "        self.x = x\n",
    "        self.y = y\n",
    " \n",
    "    def jump(self, dx, dy):\n",
    "        self.x += dx\n",
    "        self.y += dy\n",
    " \n",
    "    def __str__(self):\n",
    "        return f\"I am a Kangaroo located at coordinates ({self.x},{self.y})\"\n",
    " \n",
    "k = Kangaroo(0, 0)\n",
    " \n",
    "print(k) \n",
    " \n",
    "k.put_in_pouch('doll')\n",
    "k.put_in_pouch('firetruck')\n",
    "k.put_in_pouch('kitten')\n",
    " \n",
    "contents = k.pouch_contents()\n",
    "print(contents)  \n",
    " \n",
    "k.jump(1, 0)\n",
    "k.jump(1, 0)\n",
    "k.jump(1, 0)\n",
    "\n",
    "print(k)"
   ]
  },
  {
   "cell_type": "markdown",
   "id": "c28e177b-352a-4732-8f1a-1c4c55a981da",
   "metadata": {},
   "source": [
    "Question 4\n",
    "Write function collatz() that takes a positive integer x as input and prints the \n",
    "Collatz sequence starting at x. A Collatz sequence is obtained by repeatedly applying \n",
    "this rule to the previous number x in the sequence:\n",
    "x = {\n",
    "𝑥/2 𝑖𝑓 𝑥 𝑖𝑠 𝑒𝑣𝑒𝑛\n",
    "3𝑥 + 1 𝑖𝑓 𝑥 𝑖𝑠 𝑜𝑑𝑑\n",
    "Your function should stop when the sequence gets to number 1. Your \n",
    "implementation must be recursive, without any loops.\n",
    ">>> collatz(1)\n",
    "1\n",
    ">>> collatz(10)\n",
    "10\n",
    "5\n",
    "16\n",
    "8\n",
    "4\n",
    "2\n",
    "1\n"
   ]
  },
  {
   "cell_type": "code",
   "execution_count": 8,
   "id": "c91adf71-21fa-4886-8d7f-e61744657e18",
   "metadata": {},
   "outputs": [],
   "source": [
    "def collatz(x):\n",
    "    if(x== 1 or x == 0):\n",
    "        print(x)\n",
    "        return\n",
    "    \n",
    "    if(x%2 == 0):\n",
    "        print(x)\n",
    "        x = int(x/2)\n",
    "        collatz(x)\n",
    "    else:\n",
    "        print(x)\n",
    "        x = int(3*x+1)\n",
    "        collatz(x)\n",
    "    \n",
    "    return"
   ]
  },
  {
   "cell_type": "code",
   "execution_count": 9,
   "id": "c365be02-feb7-4451-90f7-cc2463e0f705",
   "metadata": {},
   "outputs": [
    {
     "name": "stdout",
     "output_type": "stream",
     "text": [
      "1\n"
     ]
    }
   ],
   "source": [
    "collatz(1)"
   ]
  },
  {
   "cell_type": "code",
   "execution_count": 10,
   "id": "55f683a0-fad2-4dbc-b878-9d46dc8caa5d",
   "metadata": {},
   "outputs": [
    {
     "name": "stdout",
     "output_type": "stream",
     "text": [
      "10\n",
      "5\n",
      "16\n",
      "8\n",
      "4\n",
      "2\n",
      "1\n"
     ]
    }
   ],
   "source": [
    "collatz(10)"
   ]
  },
  {
   "cell_type": "markdown",
   "id": "4c55b828-273e-4ee9-85b4-7d9e0eca2f43",
   "metadata": {},
   "source": [
    "QUESTION 5.\n",
    "Write a recursive method binary() that takes a non-negative \n",
    "integer n and prints the binary representation of integer n.\n",
    ">>> binary(0)\n",
    "0\n",
    ">>> binary(1)\n",
    "1\n",
    ">>> binary(3)\n",
    "11\n",
    ">>> binary(9)\n",
    "1001"
   ]
  },
  {
   "cell_type": "code",
   "execution_count": 3,
   "id": "8b51f241-8928-4959-b257-0878d781df96",
   "metadata": {},
   "outputs": [],
   "source": [
    "def binary(x):\n",
    "    if x > 1:\n",
    "        binary(x//2)\n",
    "    print(x % 2,end = '')\n",
    "\n",
    "        "
   ]
  },
  {
   "cell_type": "code",
   "execution_count": 4,
   "id": "5e9c182a-8010-4c4b-9691-5c2716d5a91b",
   "metadata": {},
   "outputs": [
    {
     "name": "stdout",
     "output_type": "stream",
     "text": [
      "0"
     ]
    }
   ],
   "source": [
    "binary(0)"
   ]
  },
  {
   "cell_type": "code",
   "execution_count": 5,
   "id": "61a498a0-3acf-420b-9d51-5ea907be73b4",
   "metadata": {},
   "outputs": [
    {
     "name": "stdout",
     "output_type": "stream",
     "text": [
      "1"
     ]
    }
   ],
   "source": [
    "binary(1)"
   ]
  },
  {
   "cell_type": "code",
   "execution_count": 6,
   "id": "49ee80e7-8a61-4b10-8b68-bc067d87b7b3",
   "metadata": {},
   "outputs": [
    {
     "name": "stdout",
     "output_type": "stream",
     "text": [
      "11"
     ]
    }
   ],
   "source": [
    "binary(3)"
   ]
  },
  {
   "cell_type": "code",
   "execution_count": 7,
   "id": "3569224a-579d-42a6-9a65-af5b79b00810",
   "metadata": {},
   "outputs": [
    {
     "name": "stdout",
     "output_type": "stream",
     "text": [
      "1001"
     ]
    }
   ],
   "source": [
    "binary(9)"
   ]
  },
  {
   "cell_type": "markdown",
   "id": "40827453-0187-400c-8229-80a8d76c75e2",
   "metadata": {},
   "source": [
    "QUESTION 6.\n",
    "Implement a class named HeadingParser that can be used to parse an HTML \n",
    "document, and retrieve and print all the headings in the document. You should \n",
    "implement your class as a subclass of HTMLParser, defined in Standard Library \n",
    "module html.parser. When fed a string containing HTML code, your class should \n",
    "print the headings, one per line and in the order in which they appear in the \n",
    "document. Each heading should be indented as follows: an h1 heading should have \n",
    " Computer Studies\n",
    "indentation 0, and h2 heading should have indentation 1, etc. Test your \n",
    "implementation using w3c.html.\n",
    ">>> infile = open('w3c.html')\n",
    ">>> content = infile.read()\n",
    ">>> infile.close()\n",
    ">>> hp = HeadingParser()\n",
    ">>> hp.feed(content)\n",
    "W3C Mission\n",
    "Principles\n"
   ]
  },
  {
   "cell_type": "code",
   "execution_count": 11,
   "id": "1b5d9354-adc8-49af-ad65-b12085d24915",
   "metadata": {},
   "outputs": [],
   "source": [
    "from html.parser import HTMLParser"
   ]
  },
  {
   "cell_type": "code",
   "execution_count": 16,
   "id": "60b451c3-340e-4c61-9f16-681820f90b58",
   "metadata": {},
   "outputs": [],
   "source": [
    "class HeadingParser(HTMLParser):\n",
    "    \n",
    "    def __init__(self):\n",
    "        super().__init__()\n",
    "        self.current_start_tag = ''\n",
    "        self.current_data = ''\n",
    "        self.current_end_tag = ''\n",
    "        self.tag_indents = {'h1':'','h2':' ','h3':'  ','h4':'   ','h5':'    ','h6':'     '}\n",
    "    \n",
    "    def handle_starttag(self, tag, attrs):\n",
    "#         print(\"Start tag:\", tag)\n",
    "#         for attr in attrs:\n",
    "#             print(\"     attr:\", attr)\n",
    "        self.current_start_tag = tag\n",
    "            \n",
    "    def handle_endtag(self, tag):\n",
    "#         print(\"End tag  :\", tag)\n",
    "        self.current_end_tag = tag\n",
    "        if self.current_start_tag in ['h1','h2','h3','h4','h5','h6'] and self.current_start_tag == self.current_end_tag:\n",
    "            print(f\"{self.tag_indents[self.current_start_tag]}{self.current_data}\")\n",
    "        \n",
    "    def handle_data(self, data):\n",
    "#         print(\"Encountered some data  :\", data)\n",
    "        self.current_data = data"
   ]
  },
  {
   "cell_type": "code",
   "execution_count": 17,
   "id": "bdc5de11-b1e9-4ec1-9e79-dd0420994f70",
   "metadata": {},
   "outputs": [],
   "source": [
    "infile = open('w3c.txt')\n",
    "content = infile.read()\n",
    "infile.close()"
   ]
  },
  {
   "cell_type": "code",
   "execution_count": 18,
   "id": "343c1d56-b655-4b2a-b15d-2256eac600c5",
   "metadata": {},
   "outputs": [],
   "source": [
    "hp = HeadingParser()"
   ]
  },
  {
   "cell_type": "code",
   "execution_count": 19,
   "id": "b61838d9-0090-400b-8646-e7f282491c33",
   "metadata": {},
   "outputs": [
    {
     "data": {
      "text/plain": [
       "'<!DOCTYPE html>\\n<html lang=\"en\">\\n\\n<head>\\n  <meta name=\"description\" content=\"Webpage description goes here\" />\\n  <meta charset=\"utf-8\">\\n  <title>Change_me</title>\\n  <meta name=\"viewport\" content=\"width=device-width, initial-scale=1\">\\n  <meta name=\"author\" content=\"\">\\n  <link rel=\"stylesheet\" href=\"css/style.css\">\\n</head>\\n\\n<body>\\n  \\n\\t<h1>W3C Mission</h1>\\n\\t<h2>Principles</h2>\\n \\n\\n\\n</body>\\n</html>'"
      ]
     },
     "execution_count": 19,
     "metadata": {},
     "output_type": "execute_result"
    }
   ],
   "source": [
    "content"
   ]
  },
  {
   "cell_type": "code",
   "execution_count": 20,
   "id": "19e675b3-dc7f-48b7-ae93-7105354b6a34",
   "metadata": {},
   "outputs": [
    {
     "name": "stdout",
     "output_type": "stream",
     "text": [
      "W3C Mission\n",
      " Principles\n"
     ]
    }
   ],
   "source": [
    "hp.feed(content)"
   ]
  },
  {
   "cell_type": "markdown",
   "id": "7fe5c818-adca-4b2c-b46b-bc8c5c72415a",
   "metadata": {},
   "source": [
    "QUESTION 7.\n",
    "Implement recursive function webdir() that takes as input: a URL (as a string) and \n",
    "non-negative integers depth and indent. Your function should visit every web \n",
    "page reachable from the starting URL web page in depth clicks or less, and print \n",
    "each web page's URL. As shown below, indentation, specified by indent, should \n",
    "be used to indicate the depth of a URL.\n",
    ">>> \n",
    "webdir('http://reed.cs.depaul.edu/lperkovic/csc242/test1.html'\n",
    ", 2, 0)\n",
    "http://reed.cs.depaul.edu/lperkovic/csc242/test1.html\n",
    " http://reed.cs.depaul.edu/lperkovic/csc242/test2.html\n",
    " http://reed.cs.depaul.edu/lperkovic/csc242/test4.html\n",
    " http://reed.cs.depaul.edu/lperkovic/csc242/test3.html\n",
    " http://reed.cs.depaul.edu/lperkovic/csc242/test4.html\n"
   ]
  },
  {
   "cell_type": "code",
   "execution_count": 32,
   "id": "c4a22279-3bc4-4765-8ea8-7928f77e5897",
   "metadata": {},
   "outputs": [],
   "source": [
    "from html.parser import HTMLParser\n",
    "from urllib.request import urlopen\n",
    "from urllib.parse import urljoin\n",
    "\n",
    "class collectURL(HTMLParser):\n",
    "    'collects hyperlinks into a list'\n",
    "    \n",
    "    def __init__(self, url):\n",
    "        'initializes parser, url and a list'\n",
    "        HTMLParser.__init__(self)\n",
    "        self.url = url\n",
    "        self.links = [] \n",
    "    \n",
    "    def handle_starttag(self, tag , attrs):\n",
    "        'collects URLs in their absolute format'\n",
    "        if tag == 'a':\n",
    "            for attr in attrs:\n",
    "                if attr[0] == 'href':\n",
    "                    absURL = urljoin(self.url, attr[1])\n",
    "                    if absURL[:4] == 'http':\n",
    "                        self.links.append(absURL)\n",
    "                        \n",
    "    def getLinks(self):\n",
    "        return self.links\n",
    "\n",
    "def webdir(url, dep, indent):\n",
    "    'Recursive function to print each visited webpage URL reachable from the URL' \n",
    "    'Indentation depending on depth/clicks required to reach that page'\n",
    "    content = urlopen(url).read().decode()\n",
    "    collector = collectURL(url)\n",
    "    collector.feed(content)\n",
    "    urls = collector.getLinks()\n",
    "    \n",
    "    if indent == 0:\n",
    "        print(url)\n",
    "    else:\n",
    "        print(indent*' ',url)\n",
    "\n",
    "    for url in urls:\n",
    "        if dep > 0:\n",
    "            #print(dep)\n",
    "            webdir(url, dep - 1, indent+2) \n"
   ]
  },
  {
   "cell_type": "code",
   "execution_count": 33,
   "id": "5b1549ce-c086-4513-a0fa-93b1bb48d6d5",
   "metadata": {},
   "outputs": [
    {
     "name": "stdout",
     "output_type": "stream",
     "text": [
      "http://reed.cs.depaul.edu/lperkovic/test1.html\n",
      "   http://reed.cs.depaul.edu/lperkovic/test2.html\n",
      "     http://reed.cs.depaul.edu/lperkovic/test4.html\n",
      "   http://reed.cs.depaul.edu/lperkovic/test3.html\n",
      "     http://reed.cs.depaul.edu/lperkovic/test4.html\n"
     ]
    }
   ],
   "source": [
    "\n",
    "webdir('http://reed.cs.depaul.edu/lperkovic/test1.html', 2, 0)"
   ]
  },
  {
   "cell_type": "markdown",
   "id": "b486e8e7-0577-4c3e-be2b-9543da78a683",
   "metadata": {},
   "source": [
    "QUESTION 8.\n",
    "Write SQL queries on the below database table that return: \n",
    "a) All the temperature data.\n",
    "b) All the cities, but without repetition.\n",
    "c) All the records for India.\n",
    "d) All the Fall records.\n",
    "e) The city, country, and season for which the average rainfall is between 200 \n",
    "and 400 millimeters.\n",
    "f) The city and country for which the average Fall temperature is above 20 \n",
    "degrees, in increasing temperature order.\n",
    "g) The total annual rainfall for Cairo.\n",
    "h) The total rainfall for each season.\n",
    "City Country Season Temperature \n",
    "(C)\n",
    "Rainfall \n",
    "(mm)\n",
    "Mumbai India Winter 24.8 5.9 \n",
    "Mumbai India Spring 28.4 16.2 \n",
    "Mumbai India Summer 27.9 1549.4 \n",
    "Mumbai India Fall 27.6 346.0 \n",
    "London United Kingdom Winter 4.2 207.7 \n",
    "London United Kingdom Spring 8.3 169.6 \n",
    "London United Kingdom Summer 15.7 157.0 \n",
    "London United Kingdom Fall 10.4 218.5 \n",
    "Cairo Egypt Winter 13.6 16.5 \n",
    "Cairo Egypt Spring 20.7 6.5 \n",
    "Cairo Egypt Summer 27.7 0.1 \n",
    "Cairo Egypt Fall 22.2 4.5\n"
   ]
  },
  {
   "cell_type": "code",
   "execution_count": 82,
   "id": "99376852-9976-4912-91cb-91138bda6a05",
   "metadata": {},
   "outputs": [
    {
     "name": "stdout",
     "output_type": "stream",
     "text": [
      "Query 1: (24.8,)\n",
      "Query 1: (27.9,)\n",
      "Query 1: (27.6,)\n",
      "Query 1: (4.2,)\n",
      "Query 1: (8.3,)\n",
      "Query 1: (15.7,)\n",
      "Query 1: (10.4,)\n",
      "Query 1: (13.6,)\n",
      "Query 1: (20.7,)\n",
      "Query 2: ('Mumbai',)\n",
      "Query 2: ('London',)\n",
      "Query 2: ('Cairo',)\n",
      "Query 3: ('Mumbai', 'India', 'Fall', 27.6, 346.0)\n",
      "Query 3: ('London', 'United Kingdom', 'Fall', 10.4, 218.5)\n",
      "Query 4: ('Mumbai', 'India', 'Winter', 24.8, 5.9)\n",
      "Query 4: ('Mumbai', 'India', 'Summer', 27.9, 1549.4)\n",
      "Query 4: ('Mumbai', 'India', 'Fall', 27.6, 346.0)\n",
      "Query 5: ('Mumbai', 'India')\n",
      "Query 6: ('Mumbai', 'India', 'Fall')\n",
      "Query 6: ('London', 'United Kingdom', 'Winter')\n",
      "Query 6: ('London', 'United Kingdom', 'Fall')\n",
      "Query 6: [(23.0,)]\n",
      "Query 7: (564.5, 'Fall')\n",
      "Query 7: (176.1, 'Spring')\n",
      "Query 7: (1706.4, 'Summer')\n",
      "Query 7: (230.1, 'Winter')\n"
     ]
    }
   ],
   "source": [
    "\n",
    "import sqlite3\n",
    "#Creating Database\n",
    "conn = sqlite3.connect('weatherreport.db')\n",
    "cur = conn.cursor()\n",
    "#Drop the table if it exist\n",
    "cur.execute(\"DROP TABLE IF EXISTS weather;\")\n",
    "#Table creation\n",
    "cur.execute(\"CREATE TABLE weather (city TEXT, country TEXT, season TEXT, temperature float, rainfall float)\")\n",
    "#Inserting values to the table\n",
    "cur.execute(\"INSERT INTO weather VALUES('Mumbai', 'India', 'Winter', 24.8, 5.9);\")\n",
    "cur.execute(\"INSERT INTO weather VALUES('Mumbai', 'India', 'Summer', 27.9, 1549.4);\")\n",
    "cur.execute(\"INSERT INTO weather VALUES('Mumbai', 'India', 'Fall', 27.6, 346.0);\")\n",
    "cur.execute(\"INSERT INTO weather VALUES('London', 'United Kingdom', 'Winter', 4.2, 207.7);\")\n",
    "cur.execute(\"INSERT INTO weather VALUES('London', 'United Kingdom', 'Spring', 8.3, 169.6);\")\n",
    "cur.execute(\"INSERT INTO weather VALUES('London', 'United Kingdom', 'Summer', 15.7, 157.0);\")\n",
    "cur.execute(\"INSERT INTO weather VALUES('London', 'United Kingdom', 'Fall', 10.4, 218.5);\")\n",
    "cur.execute(\"INSERT INTO weather VALUES('Cairo', 'Egypt', 'Winter', 13.6, 16.5);\")\n",
    "cur.execute(\"INSERT INTO weather VALUES('Cairo', 'Egypt', 'Spring', 20.7, 6.5);\")\n",
    "\n",
    "conn.commit()\n",
    "\n",
    "\n",
    "# Query 1\n",
    "cur.execute('SELECT temperature FROM weather')\n",
    "for record in cur:\n",
    "    print(\"Query 1:\",record)\n",
    "# Query 2\n",
    "\n",
    "cur.execute('SELECT DISTINCT city FROM weather')\n",
    "for record in cur:\n",
    "    print(\"Query 2:\",record)\n",
    "\n",
    "# Query 3\n",
    "cur.execute('SELECT * FROM weather WHERE season = \"Fall\"')\n",
    "for record in cur:\n",
    "    print(\"Query 3:\",record)\n",
    "\n",
    "# Query 4\n",
    "cur.execute('SELECT * FROM weather WHERE country = \"India\"')\n",
    "for record in cur:\n",
    "    print(\"Query 4:\",record)\n",
    "\n",
    "# Query 5\n",
    "cur.execute('SELECT city, country FROM weather WHERE (season = \"Fall\") AND (temperature > 20) ORDER BY temperature DESC')\n",
    "for record in cur:\n",
    "    print(\"Query 5:\",record)\n",
    "\n",
    "# Query 6\n",
    "cur.execute('SELECT city, country, season FROM weather WHERE (rainfall > 200) AND (rainfall < 400)')\n",
    "for record in cur:\n",
    "    print(\"Query 6:\",record)\n",
    "\n",
    "# Query 7\n",
    "cur.execute('SELECT SUM(rainfall) FROM weather WHERE city = \"Cairo\"')\n",
    "Annual_rainfall = cur.fetchall()\n",
    "print(\"Query 6:\",Annual_rainfall)\n",
    "\n",
    "# Query 8\n",
    "cur.execute('SELECT SUM(rainfall), season FROM weather GROUP BY season')\n",
    "for record in cur:\n",
    "    print(\"Query 7:\",record)\n",
    "\n",
    "conn.close()"
   ]
  },
  {
   "cell_type": "markdown",
   "id": "a4715ac3-eb60-45cb-87be-fa7db775adb1",
   "metadata": {},
   "source": [
    "Question 9\n",
    ". Suppose list words is defined as follows:\n",
    ">>> words = ['The', 'quick', 'brown', 'fox', 'jumps', 'over', \n",
    "'the', 'lazy', 'dog']\n",
    "Write list comprehension expressions that use list words and generate the following \n",
    "lists:\n",
    "a) ['THE', 'QUICK', 'BROWN', 'FOX', 'JUMPS', 'OVER', 'THE', \n",
    "'LAZY', 'DOG']\n",
    "b) ['the', 'quick', 'brown', 'fox', 'jumps', 'over', 'the', \n",
    "'lazy', 'dog']\n",
    "c) [3, 5, 5, 3, 5, 4, 3, 4, 3] (the list of lengths of words in list \n",
    "words).\n",
    "d) [['THE', 'the', 3], ['QUICK', 'quick', 5], ['BROWN', \n",
    "'brown', 5], ['FOX', 'fox', 3], ['JUMPS', 'jumps', 5], \n",
    "['OVER', 'over', 4], ['THE', 'the', 3], ['LAZY', 'lazy', \n",
    "4], ['DOG', 'dog', 3]] (the list containing a list for every word of list \n",
    "words, where each list contains the word in uppercase and lowercase and the \n",
    "length of the word.)\n",
    "e) ['The', 'quick', 'brown', 'fox', 'jumps', 'over', 'the', \n",
    "'lazy', 'dog'] (the list of words in list words containing 4 or more \n",
    "characters."
   ]
  },
  {
   "cell_type": "code",
   "execution_count": 83,
   "id": "8dd7039d-5eb4-4a6c-a349-56d510bb65af",
   "metadata": {},
   "outputs": [
    {
     "name": "stdout",
     "output_type": "stream",
     "text": [
      "Answer 1: ['THE', 'QUICK', 'BROWN', 'FOX', 'JUMPS', 'OVER', 'THE', 'LAZY', 'DOG']\n",
      "Answer 2: ['the', 'quick', 'brown', 'fox', 'jumps', 'over', 'the', 'lazy', 'dog']\n",
      "Answer 3: [3, 5, 5, 3, 5, 4, 3, 4, 3]\n",
      "Answer 4: [('THE', 'the', 3), ('QUICK', 'quick', 5), ('BROWN', 'brown', 5), ('FOX', 'fox', 3), ('JUMPS', 'jumps', 5), ('OVER', 'over', 4), ('THE', 'the', 3), ('LAZY', 'lazy', 4), ('DOG', 'dog', 3)]\n",
      "Answer 5: ['quick', 'brown', 'jumps', 'over', 'lazy']\n"
     ]
    }
   ],
   "source": [
    "# Creating a list with the words\n",
    "words = ['The', 'quick', 'brown', 'fox', 'jumps', 'over', 'the', 'lazy', 'dog']\n",
    "\n",
    "# Listing all words upper case\n",
    "\n",
    "upper_case=[]\n",
    "for m in words:\n",
    "    a= m.upper()\n",
    "    upper_case.append(a)\n",
    "print(\"Answer 1:\",upper_case)\n",
    "\n",
    "# Listing all words lower case\n",
    "\n",
    "lower_case=[]\n",
    "for m in words:\n",
    "    a= m.lower()\n",
    "    lower_case.append(a)\n",
    "print(\"Answer 2:\",lower_case)\n",
    "\n",
    "# Listing length of each word\n",
    "length=[]\n",
    "for m in words:\n",
    "    a=len(m)\n",
    "    length.append(a)\n",
    "\n",
    "print(\"Answer 3:\",length)\n",
    "\n",
    "# Listing the list containing a list for every word of list words, where each list contains the word in uppercase and lowercase and the length of the word\n",
    "upper_lower_length = []\n",
    "for m in words:\n",
    "    a= m.upper()\n",
    "    b= m.lower()\n",
    "    c= len(m)\n",
    "    d = a ,b ,c\n",
    "    upper_lower_length.append(d)\n",
    "\n",
    "print(\"Answer 4:\",upper_lower_length)\n",
    "\n",
    "# Listing the list of words in list words containing 4 or more characters\n",
    "length_list=[]\n",
    "for m in words:\n",
    "    if len(m)>=4:\n",
    "        length_list.append(m)\n",
    "        \n",
    "print(\"Answer 5:\",length_list)"
   ]
  },
  {
   "cell_type": "code",
   "execution_count": null,
   "id": "727c842f-4fb2-4a22-ab3a-0812edb742a2",
   "metadata": {},
   "outputs": [],
   "source": []
  }
 ],
 "metadata": {
  "kernelspec": {
   "display_name": "Python 3 (ipykernel)",
   "language": "python",
   "name": "python3"
  },
  "language_info": {
   "codemirror_mode": {
    "name": "ipython",
    "version": 3
   },
   "file_extension": ".py",
   "mimetype": "text/x-python",
   "name": "python",
   "nbconvert_exporter": "python",
   "pygments_lexer": "ipython3",
   "version": "3.11.7"
  }
 },
 "nbformat": 4,
 "nbformat_minor": 5
}
